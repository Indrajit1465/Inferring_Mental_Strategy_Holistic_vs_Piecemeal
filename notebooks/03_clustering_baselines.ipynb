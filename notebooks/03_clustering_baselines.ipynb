{
 "cells": [
  {
   "cell_type": "code",
   "execution_count": 9,
   "id": "02db6cb9-bc92-4f7e-a53a-c0117690e787",
   "metadata": {},
   "outputs": [
    {
     "name": "stdout",
     "output_type": "stream",
     "text": [
      "--- Notebook 03: Feature Preprocessing + Clustering (Fixation Only) ---\n"
     ]
    },
    {
     "name": "stderr",
     "output_type": "stream",
     "text": [
      "C:\\Users\\ADMIN\\anaconda3\\Lib\\site-packages\\sklearn\\cluster\\_kmeans.py:1429: UserWarning: KMeans is known to have a memory leak on Windows with MKL, when there are less chunks than available threads. You can avoid it by setting the environment variable OMP_NUM_THREADS=1.\n",
      "  warnings.warn(\n"
     ]
    },
    {
     "name": "stdout",
     "output_type": "stream",
     "text": [
      "\n",
      "✅ Features preprocessed, clustered, and saved to ../data/clustered_features.csv\n"
     ]
    }
   ],
   "source": [
    "# Cell: Feature Preprocessing + Clustering (Fixation Only)\n",
    "import pandas as pd\n",
    "import numpy as np\n",
    "from sklearn.impute import SimpleImputer\n",
    "from sklearn.preprocessing import StandardScaler\n",
    "from sklearn.cluster import KMeans\n",
    "import joblib\n",
    "import os\n",
    "\n",
    "print(\"--- Notebook 03: Feature Preprocessing + Clustering (Fixation Only) ---\")\n",
    "os.makedirs('../data', exist_ok=True)\n",
    "os.makedirs('../models', exist_ok=True)\n",
    "\n",
    "# Load per-trial fixation data\n",
    "df_fix = pd.read_csv(\"../data/processed_fixations_per_trial.csv\")\n",
    "\n",
    "# Aggregate trial-level fixation features per participant\n",
    "df_features = df_fix.groupby(\"participant_id\").agg({\n",
    "    \"Fixation Duration\": [\"mean\", \"std\", \"median\", \"max\", \"min\"],\n",
    "    \"Fixation X\": [\"mean\", \"std\", \"median\", \"max\", \"min\"],\n",
    "    \"Fixation Y\": [\"mean\", \"std\", \"median\", \"max\", \"min\"]\n",
    "}).reset_index()\n",
    "\n",
    "# Flatten MultiIndex column names\n",
    "df_features.columns = [\"participant_id\"] + [\n",
    "    \"_\".join(col).strip() for col in df_features.columns[1:]\n",
    "]\n",
    "\n",
    "# Fill NaN-only columns with 0\n",
    "df_features = df_features.fillna(0)\n",
    "\n",
    "# Impute remaining missing values\n",
    "imputer = SimpleImputer(strategy=\"mean\")\n",
    "features_imputed = imputer.fit_transform(df_features.drop(columns=[\"participant_id\"]))\n",
    "df_features_imputed = pd.DataFrame(\n",
    "    features_imputed,\n",
    "    columns=df_features.drop(columns=[\"participant_id\"]).columns,\n",
    "    index=df_features.index\n",
    ")\n",
    "\n",
    "# Scale features\n",
    "scaler = StandardScaler()\n",
    "features_scaled = scaler.fit_transform(df_features_imputed)\n",
    "df_features_scaled = pd.DataFrame(\n",
    "    features_scaled,\n",
    "    columns=df_features_imputed.columns,\n",
    "    index=df_features_imputed.index\n",
    ")\n",
    "df_features_scaled[\"participant_id\"] = df_features[\"participant_id\"]\n",
    "\n",
    "# ---------- Clustering ----------\n",
    "kmeans = KMeans(n_clusters=2, random_state=42, n_init=10).fit(df_features_scaled.drop(columns=[\"participant_id\"]))\n",
    "df_features_scaled['cluster'] = kmeans.labels_\n",
    "\n",
    "# Identify Piecemeal cluster (more fixations) and assign strategy\n",
    "cluster_summary = df_features_scaled.groupby('cluster')['Fixation Duration_mean'].mean()\n",
    "piecemeal_cluster_id = cluster_summary.idxmax()\n",
    "df_features_scaled['strategy'] = np.where(\n",
    "    df_features_scaled['cluster'] == piecemeal_cluster_id, 'Piecemeal', 'Holistic'\n",
    ")\n",
    "\n",
    "# Save clustered features for downstream notebooks\n",
    "df_features_scaled.to_csv(\"../data/clustered_features.csv\", index=False)\n",
    "joblib.dump(kmeans, '../models/kmeans_model.pkl')\n",
    "\n",
    "print(\"\\n✅ Features preprocessed, clustered, and saved to ../data/clustered_features.csv\")\n"
   ]
  },
  {
   "cell_type": "code",
   "execution_count": null,
   "id": "25ff88b5-8807-4564-9711-c96138497ebe",
   "metadata": {},
   "outputs": [],
   "source": []
  }
 ],
 "metadata": {
  "kernelspec": {
   "display_name": "Python [conda env:base] *",
   "language": "python",
   "name": "conda-base-py"
  },
  "language_info": {
   "codemirror_mode": {
    "name": "ipython",
    "version": 3
   },
   "file_extension": ".py",
   "mimetype": "text/x-python",
   "name": "python",
   "nbconvert_exporter": "python",
   "pygments_lexer": "ipython3",
   "version": "3.12.7"
  }
 },
 "nbformat": 4,
 "nbformat_minor": 5
}
