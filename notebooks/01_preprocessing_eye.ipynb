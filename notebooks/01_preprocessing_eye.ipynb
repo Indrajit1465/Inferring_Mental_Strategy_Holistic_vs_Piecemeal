{
 "cells": [
  {
   "cell_type": "code",
   "execution_count": 3,
   "id": "442b4b0d-094f-436a-835b-683e98c6e01e",
   "metadata": {},
   "outputs": [
    {
     "name": "stdout",
     "output_type": "stream",
     "text": [
      "--- Notebook 01: Per-Trial Preprocessing ---\n",
      "Downloading dataset...\n",
      "Dataset extracted.\n"
     ]
    },
    {
     "name": "stderr",
     "output_type": "stream",
     "text": [
      "C:\\Users\\ADMIN\\AppData\\Local\\Temp\\ipykernel_10724\\3529246063.py:25: DtypeWarning: Columns (2) have mixed types. Specify dtype option on import or set low_memory=False.\n",
      "  df_ivt = pd.read_csv(f)\n",
      "C:\\Users\\ADMIN\\AppData\\Local\\Temp\\ipykernel_10724\\3529246063.py:25: DtypeWarning: Columns (2) have mixed types. Specify dtype option on import or set low_memory=False.\n",
      "  df_ivt = pd.read_csv(f)\n",
      "C:\\Users\\ADMIN\\AppData\\Local\\Temp\\ipykernel_10724\\3529246063.py:25: DtypeWarning: Columns (2) have mixed types. Specify dtype option on import or set low_memory=False.\n",
      "  df_ivt = pd.read_csv(f)\n",
      "C:\\Users\\ADMIN\\AppData\\Local\\Temp\\ipykernel_10724\\3529246063.py:25: DtypeWarning: Columns (2) have mixed types. Specify dtype option on import or set low_memory=False.\n",
      "  df_ivt = pd.read_csv(f)\n",
      "C:\\Users\\ADMIN\\AppData\\Local\\Temp\\ipykernel_10724\\3529246063.py:25: DtypeWarning: Columns (2) have mixed types. Specify dtype option on import or set low_memory=False.\n",
      "  df_ivt = pd.read_csv(f)\n",
      "C:\\Users\\ADMIN\\AppData\\Local\\Temp\\ipykernel_10724\\3529246063.py:25: DtypeWarning: Columns (2) have mixed types. Specify dtype option on import or set low_memory=False.\n",
      "  df_ivt = pd.read_csv(f)\n",
      "C:\\Users\\ADMIN\\AppData\\Local\\Temp\\ipykernel_10724\\3529246063.py:25: DtypeWarning: Columns (2) have mixed types. Specify dtype option on import or set low_memory=False.\n",
      "  df_ivt = pd.read_csv(f)\n",
      "C:\\Users\\ADMIN\\AppData\\Local\\Temp\\ipykernel_10724\\3529246063.py:25: DtypeWarning: Columns (2) have mixed types. Specify dtype option on import or set low_memory=False.\n",
      "  df_ivt = pd.read_csv(f)\n",
      "C:\\Users\\ADMIN\\AppData\\Local\\Temp\\ipykernel_10724\\3529246063.py:25: DtypeWarning: Columns (2) have mixed types. Specify dtype option on import or set low_memory=False.\n",
      "  df_ivt = pd.read_csv(f)\n",
      "C:\\Users\\ADMIN\\AppData\\Local\\Temp\\ipykernel_10724\\3529246063.py:25: DtypeWarning: Columns (2) have mixed types. Specify dtype option on import or set low_memory=False.\n",
      "  df_ivt = pd.read_csv(f)\n",
      "C:\\Users\\ADMIN\\AppData\\Local\\Temp\\ipykernel_10724\\3529246063.py:25: DtypeWarning: Columns (2) have mixed types. Specify dtype option on import or set low_memory=False.\n",
      "  df_ivt = pd.read_csv(f)\n",
      "C:\\Users\\ADMIN\\AppData\\Local\\Temp\\ipykernel_10724\\3529246063.py:25: DtypeWarning: Columns (2) have mixed types. Specify dtype option on import or set low_memory=False.\n",
      "  df_ivt = pd.read_csv(f)\n",
      "C:\\Users\\ADMIN\\AppData\\Local\\Temp\\ipykernel_10724\\3529246063.py:25: DtypeWarning: Columns (2) have mixed types. Specify dtype option on import or set low_memory=False.\n",
      "  df_ivt = pd.read_csv(f)\n",
      "C:\\Users\\ADMIN\\AppData\\Local\\Temp\\ipykernel_10724\\3529246063.py:25: DtypeWarning: Columns (2) have mixed types. Specify dtype option on import or set low_memory=False.\n",
      "  df_ivt = pd.read_csv(f)\n"
     ]
    },
    {
     "name": "stdout",
     "output_type": "stream",
     "text": [
      "Data sliced into 46 unique trials.\n",
      "\n",
      "✅ Preprocessed per-trial data saved to the 'data' folder.\n"
     ]
    }
   ],
   "source": [
    "# Cell 1: Imports and Setup\n",
    "import requests\n",
    "import zipfile\n",
    "import io\n",
    "import pandas as pd\n",
    "import numpy as np\n",
    "import os\n",
    "\n",
    "print(\"--- Notebook 01: Per-Trial Preprocessing ---\")\n",
    "# This will create the 'data' folder in the parent directory\n",
    "os.makedirs('../data', exist_ok=True)\n",
    "\n",
    "# Cell 2: Download and Extract Dataset\n",
    "url = \"https://springernature.figshare.com/articles/dataset/A_multisensor_dataset_of_south_asian_post_graduate_students_working_on_mental_rotation_tasks/28120670/files/51439640\"\n",
    "print(\"Downloading dataset...\")\n",
    "response = requests.get(url)\n",
    "zip_file = zipfile.ZipFile(io.BytesIO(response.content))\n",
    "print(\"Dataset extracted.\")\n",
    "\n",
    "# Cell 3: Load all IVT and PSY files\n",
    "all_ivt_data, all_psy_data = [], []\n",
    "for pid in range(1, 39):\n",
    "    try:\n",
    "        with zip_file.open(f\"STData/{pid}/{pid}_IVT.csv\") as f:\n",
    "            df_ivt = pd.read_csv(f)\n",
    "            df_ivt['participant_id'] = pid\n",
    "            all_ivt_data.append(df_ivt)\n",
    "        with zip_file.open(f\"STData/{pid}/{pid}_PSY.csv\") as f:\n",
    "            df_psy = pd.read_csv(f)\n",
    "            df_psy['participant_id'] = pid\n",
    "            all_psy_data.append(df_psy)\n",
    "    except KeyError:\n",
    "        print(f\"Warning: Data not found for participant {pid}. Skipping.\")\n",
    "\n",
    "df_ivt_master = pd.concat(all_ivt_data, ignore_index=True)\n",
    "df_psy_master = pd.concat(all_psy_data, ignore_index=True)\n",
    "\n",
    "# Cell 4: Slice IVT data into trials\n",
    "all_trials_data = []\n",
    "for i, trial in df_psy_master.iterrows():\n",
    "    p_ivt = df_ivt_master[df_ivt_master['participant_id'] == trial['participant_id']]\n",
    "    trial_ivt = p_ivt[\n",
    "        (p_ivt['UnixTime'] >= trial['routineStart']) &\n",
    "        (p_ivt['UnixTime'] <= trial['routineEnd'])\n",
    "    ].copy()\n",
    "    trial_ivt['trial_id'] = trial['Key']\n",
    "    all_trials_data.append(trial_ivt)\n",
    "\n",
    "df_trials = pd.concat(all_trials_data, ignore_index=True)\n",
    "print(f\"Data sliced into {df_trials['trial_id'].nunique()} unique trials.\")\n",
    "\n",
    "\n",
    "# Cell 5: Clean, Separate, and Save\n",
    "df_fix = df_trials[df_trials['Fixation Index'].notna()].copy()\n",
    "df_sac = df_trials[df_trials['Saccade Index'].notna()].copy()\n",
    "\n",
    "df_fix.to_csv('../data/processed_fixations_per_trial.csv', index=False)\n",
    "df_sac.to_csv('../data/processed_saccades_per_trial.csv', index=False)\n",
    "print(\"\\n✅ Preprocessed per-trial data saved to the 'data' folder.\")"
   ]
  },
  {
   "cell_type": "code",
   "execution_count": null,
   "id": "d3a5961c-04e4-4390-a2f6-3bcf13e84568",
   "metadata": {},
   "outputs": [],
   "source": []
  }
 ],
 "metadata": {
  "kernelspec": {
   "display_name": "Python [conda env:base] *",
   "language": "python",
   "name": "conda-base-py"
  },
  "language_info": {
   "codemirror_mode": {
    "name": "ipython",
    "version": 3
   },
   "file_extension": ".py",
   "mimetype": "text/x-python",
   "name": "python",
   "nbconvert_exporter": "python",
   "pygments_lexer": "ipython3",
   "version": "3.12.7"
  }
 },
 "nbformat": 4,
 "nbformat_minor": 5
}
