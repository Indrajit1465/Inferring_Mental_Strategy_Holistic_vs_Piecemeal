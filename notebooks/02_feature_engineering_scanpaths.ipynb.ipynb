{
 "cells": [
  {
   "cell_type": "code",
   "execution_count": 1,
   "id": "c3a08ec6-2378-4d01-97f4-a1e439bfe109",
   "metadata": {},
   "outputs": [
    {
     "name": "stdout",
     "output_type": "stream",
     "text": [
      "--- Notebook 02: Rich Per-Trial Feature Engineering ---\n",
      "\n",
      "✅ Aggregated participant features saved to the 'data' folder.\n"
     ]
    }
   ],
   "source": [
    "# Cell 1: Imports and Load Data\n",
    "import pandas as pd\n",
    "import numpy as np\n",
    "from sklearn.cluster import KMeans\n",
    "from scipy.stats import iqr\n",
    "\n",
    "print(\"--- Notebook 02: Rich Per-Trial Feature Engineering ---\")\n",
    "df_fix = pd.read_csv('../data/processed_fixations_per_trial.csv')\n",
    "df_sac = pd.read_csv('../data/processed_saccades_per_trial.csv')\n",
    "\n",
    "# Cell 2: Define AOIs and Normalize Coordinates\n",
    "max_x, max_y = df_fix['Fixation X'].max(), df_fix['Fixation Y'].max()\n",
    "df_fix['x_norm'] = df_fix['Fixation X'] / max_x\n",
    "df_fix['y_norm'] = df_fix['Fixation Y'] / max_y\n",
    "\n",
    "n_aois = 8\n",
    "aoi_model = KMeans(n_clusters=n_aois, random_state=42, n_init=10)\n",
    "df_fix['aoi'] = aoi_model.fit_predict(df_fix[['x_norm', 'y_norm']])\n",
    "\n",
    "# Cell 3: Extract Features Per Trial\n",
    "# ... (same feature extraction code as the last full script)\n",
    "def get_transition_entropy(aoi_sequence):\n",
    "    if len(aoi_sequence) < 2: return 0\n",
    "    transitions = list(zip(aoi_sequence[:-1], aoi_sequence[1:]))\n",
    "    if not transitions: return 0\n",
    "    counts = pd.Series(transitions).value_counts()\n",
    "    probs = counts / len(transitions)\n",
    "    return -np.sum(probs * np.log2(probs))\n",
    "\n",
    "trial_features = []\n",
    "# ... (loop through trials and calculate features as before)\n",
    "for trial_id in df_fix['trial_id'].unique():\n",
    "    t_fix = df_fix[df_fix['trial_id'] == trial_id]\n",
    "    t_sac = df_sac[df_sac['trial_id'] == trial_id]\n",
    "    if len(t_fix) < 2 or t_sac.empty: continue\n",
    "    \n",
    "    features = {\n",
    "        'participant_id': t_fix['participant_id'].iloc[0], 'trial_id': trial_id,\n",
    "        'num_fixations': len(t_fix), 'mean_fix_duration': t_fix['Fixation Duration'].mean(),\n",
    "        'spatial_dispersion': np.sqrt(t_fix['Fixation X'].var() + t_fix['Fixation Y'].var()),\n",
    "        'mean_saccade_amplitude': t_sac['Saccade Amplitude'].mean(), 'saccade_amplitude_iqr': iqr(t_sac['Saccade Amplitude']),\n",
    "        'scanpath_length': np.sum(np.sqrt(np.diff(t_fix['x_norm'])**2 + np.diff(t_fix['y_norm'])**2)),\n",
    "        'transition_entropy': get_transition_entropy(t_fix['aoi'].values),\n",
    "        'revisit_ratio': 1 - (t_fix['aoi'].nunique() / len(t_fix['aoi'])) if len(t_fix['aoi']) > 0 else 0,\n",
    "    }\n",
    "    trial_features.append(features)\n",
    "\n",
    "df_trial_features = pd.DataFrame(trial_features)\n",
    "\n",
    "# Cell 4: Aggregate to Participant Level and Save\n",
    "agg_funcs = {col: 'median' for col in df_trial_features.columns if col not in ['participant_id', 'trial_id']}\n",
    "df_participant_features = df_trial_features.groupby('participant_id').agg(agg_funcs)\n",
    "df_participant_features.fillna(df_participant_features.median(), inplace=True)\n",
    "\n",
    "df_participant_features.to_csv('../data/participant_features.csv')\n",
    "print(\"\\n✅ Aggregated participant features saved to the 'data' folder.\")"
   ]
  },
  {
   "cell_type": "code",
   "execution_count": null,
   "id": "01d93af2-2fca-49e9-8931-257a7a49ddf8",
   "metadata": {},
   "outputs": [],
   "source": []
  }
 ],
 "metadata": {
  "kernelspec": {
   "display_name": "Python [conda env:base] *",
   "language": "python",
   "name": "conda-base-py"
  },
  "language_info": {
   "codemirror_mode": {
    "name": "ipython",
    "version": 3
   },
   "file_extension": ".py",
   "mimetype": "text/x-python",
   "name": "python",
   "nbconvert_exporter": "python",
   "pygments_lexer": "ipython3",
   "version": "3.12.7"
  }
 },
 "nbformat": 4,
 "nbformat_minor": 5
}
