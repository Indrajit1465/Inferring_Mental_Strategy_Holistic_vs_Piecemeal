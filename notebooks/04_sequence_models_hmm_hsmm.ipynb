{
 "cells": [
  {
   "cell_type": "code",
   "execution_count": 2,
   "id": "9d04003e-0ec4-4180-adb1-7a2f2e71aaf1",
   "metadata": {},
   "outputs": [
    {
     "name": "stdout",
     "output_type": "stream",
     "text": [
      "Requirement already satisfied: pandas in c:\\users\\admin\\anaconda3\\lib\\site-packages (2.2.2)\n",
      "Requirement already satisfied: numpy in c:\\users\\admin\\anaconda3\\lib\\site-packages (1.26.4)\n",
      "Requirement already satisfied: scikit-learn in c:\\users\\admin\\anaconda3\\lib\\site-packages (1.5.1)\n",
      "Requirement already satisfied: matplotlib in c:\\users\\admin\\anaconda3\\lib\\site-packages (3.9.2)\n",
      "Requirement already satisfied: seaborn in c:\\users\\admin\\anaconda3\\lib\\site-packages (0.13.2)\n",
      "Collecting hmmlearn\n",
      "  Downloading hmmlearn-0.3.3-cp312-cp312-win_amd64.whl.metadata (3.1 kB)\n",
      "Requirement already satisfied: joblib in c:\\users\\admin\\anaconda3\\lib\\site-packages (1.4.2)\n",
      "Requirement already satisfied: networkx in c:\\users\\admin\\anaconda3\\lib\\site-packages (3.3)\n",
      "Requirement already satisfied: tqdm in c:\\users\\admin\\anaconda3\\lib\\site-packages (4.66.5)\n",
      "Collecting python-Levenshtein\n",
      "  Downloading python_levenshtein-0.27.1-py3-none-any.whl.metadata (3.7 kB)\n",
      "Requirement already satisfied: python-dateutil>=2.8.2 in c:\\users\\admin\\anaconda3\\lib\\site-packages (from pandas) (2.9.0.post0)\n",
      "Requirement already satisfied: pytz>=2020.1 in c:\\users\\admin\\anaconda3\\lib\\site-packages (from pandas) (2024.1)\n",
      "Requirement already satisfied: tzdata>=2022.7 in c:\\users\\admin\\anaconda3\\lib\\site-packages (from pandas) (2023.3)\n",
      "Requirement already satisfied: scipy>=1.6.0 in c:\\users\\admin\\anaconda3\\lib\\site-packages (from scikit-learn) (1.13.1)\n",
      "Requirement already satisfied: threadpoolctl>=3.1.0 in c:\\users\\admin\\anaconda3\\lib\\site-packages (from scikit-learn) (3.5.0)\n",
      "Requirement already satisfied: contourpy>=1.0.1 in c:\\users\\admin\\anaconda3\\lib\\site-packages (from matplotlib) (1.2.0)\n",
      "Requirement already satisfied: cycler>=0.10 in c:\\users\\admin\\anaconda3\\lib\\site-packages (from matplotlib) (0.11.0)\n",
      "Requirement already satisfied: fonttools>=4.22.0 in c:\\users\\admin\\anaconda3\\lib\\site-packages (from matplotlib) (4.51.0)\n",
      "Requirement already satisfied: kiwisolver>=1.3.1 in c:\\users\\admin\\anaconda3\\lib\\site-packages (from matplotlib) (1.4.4)\n",
      "Requirement already satisfied: packaging>=20.0 in c:\\users\\admin\\anaconda3\\lib\\site-packages (from matplotlib) (24.1)\n",
      "Requirement already satisfied: pillow>=8 in c:\\users\\admin\\anaconda3\\lib\\site-packages (from matplotlib) (10.4.0)\n",
      "Requirement already satisfied: pyparsing>=2.3.1 in c:\\users\\admin\\anaconda3\\lib\\site-packages (from matplotlib) (3.1.2)\n",
      "Requirement already satisfied: colorama in c:\\users\\admin\\anaconda3\\lib\\site-packages (from tqdm) (0.4.6)\n",
      "Collecting Levenshtein==0.27.1 (from python-Levenshtein)\n",
      "  Downloading levenshtein-0.27.1-cp312-cp312-win_amd64.whl.metadata (3.6 kB)\n",
      "Collecting rapidfuzz<4.0.0,>=3.9.0 (from Levenshtein==0.27.1->python-Levenshtein)\n",
      "  Downloading rapidfuzz-3.14.1-cp312-cp312-win_amd64.whl.metadata (12 kB)\n",
      "Requirement already satisfied: six>=1.5 in c:\\users\\admin\\anaconda3\\lib\\site-packages (from python-dateutil>=2.8.2->pandas) (1.16.0)\n",
      "Downloading hmmlearn-0.3.3-cp312-cp312-win_amd64.whl (127 kB)\n",
      "Downloading python_levenshtein-0.27.1-py3-none-any.whl (9.4 kB)\n",
      "Downloading levenshtein-0.27.1-cp312-cp312-win_amd64.whl (100 kB)\n",
      "Downloading rapidfuzz-3.14.1-cp312-cp312-win_amd64.whl (1.5 MB)\n",
      "   ---------------------------------------- 0.0/1.5 MB ? eta -:--:--\n",
      "   -------------------- ------------------- 0.8/1.5 MB 6.7 MB/s eta 0:00:01\n",
      "   ---------------------------------------- 1.5/1.5 MB 6.3 MB/s eta 0:00:00\n",
      "Installing collected packages: rapidfuzz, Levenshtein, python-Levenshtein, hmmlearn\n",
      "Successfully installed Levenshtein-0.27.1 hmmlearn-0.3.3 python-Levenshtein-0.27.1 rapidfuzz-3.14.1\n",
      "Note: you may need to restart the kernel to use updated packages.\n"
     ]
    }
   ],
   "source": [
    "pip install pandas numpy scikit-learn matplotlib seaborn hmmlearn joblib networkx tqdm python-Levenshtein"
   ]
  },
  {
   "cell_type": "code",
   "execution_count": 5,
   "id": "9300cd3b-1129-4df0-a947-6b079c72cd88",
   "metadata": {},
   "outputs": [
    {
     "name": "stdout",
     "output_type": "stream",
     "text": [
      "--- Notebook 04: Sequence Modeling (HMM) ---\n"
     ]
    },
    {
     "name": "stderr",
     "output_type": "stream",
     "text": [
      "MultinomialHMM has undergone major changes. The previous version was implementing a CategoricalHMM (a special case of MultinomialHMM). This new implementation follows the standard definition for a Multinomial distribution (e.g. as in https://en.wikipedia.org/wiki/Multinomial_distribution). See these issues for details:\n",
      "https://github.com/hmmlearn/hmmlearn/issues/335\n",
      "https://github.com/hmmlearn/hmmlearn/issues/340\n",
      "MultinomialHMM has undergone major changes. The previous version was implementing a CategoricalHMM (a special case of MultinomialHMM). This new implementation follows the standard definition for a Multinomial distribution (e.g. as in https://en.wikipedia.org/wiki/Multinomial_distribution). See these issues for details:\n",
      "https://github.com/hmmlearn/hmmlearn/issues/335\n",
      "https://github.com/hmmlearn/hmmlearn/issues/340\n"
     ]
    },
    {
     "name": "stdout",
     "output_type": "stream",
     "text": [
      "\n",
      "✅ HMM models saved for each strategy.\n"
     ]
    }
   ],
   "source": [
    "# Cell 1: Imports and Load Data\n",
    "import pandas as pd\n",
    "import numpy as np\n",
    "from hmmlearn import hmm\n",
    "import joblib\n",
    "\n",
    "print(\"--- Notebook 04: Sequence Modeling (HMM) ---\")\n",
    "df_fix = pd.read_csv('../data/processed_fixations_per_trial.csv')\n",
    "df_clustered = pd.read_csv('../data/clustered_features.csv')\n",
    "\n",
    "# NOTE: Re-run AOI definition to ensure 'aoi' column is present\n",
    "# This is a small redundancy for notebook independence\n",
    "from sklearn.cluster import KMeans\n",
    "n_aois=8\n",
    "max_x, max_y = df_fix['Fixation X'].max(), df_fix['Fixation Y'].max()\n",
    "df_fix['x_norm'] = df_fix['Fixation X'] / max_x\n",
    "df_fix['y_norm'] = df_fix['Fixation Y'] / max_y\n",
    "aoi_model = KMeans(n_clusters=n_aois, random_state=42, n_init=10)\n",
    "df_fix['aoi'] = aoi_model.fit_predict(df_fix[['x_norm', 'y_norm']])\n",
    "\n",
    "# Cell 2: Prepare HMM Data and Train\n",
    "# ... (same HMM preparation and training code as the last full script)\n",
    "def prepare_hmm_data(pids, df_fixations):\n",
    "    sequences = [df_fixations[df_fixations['participant_id'] == pid]['aoi'].values for pid in pids]\n",
    "    sequences = [s for s in sequences if len(s) > 0]\n",
    "    lengths = [len(s) for s in sequences]\n",
    "    return np.concatenate(sequences).reshape(-1, 1), lengths\n",
    "\n",
    "piecemeal_pids = df_clustered[df_clustered['strategy'] == 'Piecemeal']['participant_id']\n",
    "holistic_pids = df_clustered[df_clustered['strategy'] == 'Holistic']['participant_id']\n",
    "\n",
    "X_piecemeal, lengths_piecemeal = prepare_hmm_data(piecemeal_pids, df_fix)\n",
    "X_holistic, lengths_holistic = prepare_hmm_data(holistic_pids, df_fix)\n",
    "\n",
    "n_hidden_states = 3\n",
    "hmm_piecemeal = hmm.MultinomialHMM(n_components=n_hidden_states, random_state=42, n_iter=150).fit(X_piecemeal, lengths_piecemeal)\n",
    "hmm_holistic = hmm.MultinomialHMM(n_components=n_hidden_states, random_state=42, n_iter=150).fit(X_holistic, lengths_holistic)\n",
    "\n",
    "# Cell 3: Save Models\n",
    "joblib.dump(hmm_piecemeal, '../models/hmm_piecemeal.pkl')\n",
    "joblib.dump(hmm_holistic, '../models/hmm_holistic.pkl') # Note: saving two specific HMMs\n",
    "print(\"\\n✅ HMM models saved for each strategy.\")"
   ]
  },
  {
   "cell_type": "code",
   "execution_count": 6,
   "id": "ac7a0b3e-5a57-4425-a280-6808e36cd453",
   "metadata": {},
   "outputs": [
    {
     "name": "stdout",
     "output_type": "stream",
     "text": [
      "--- Notebook 04 (Upgraded): Sequence Modeling (HMM) ---\n"
     ]
    },
    {
     "name": "stderr",
     "output_type": "stream",
     "text": [
      "MultinomialHMM has undergone major changes. The previous version was implementing a CategoricalHMM (a special case of MultinomialHMM). This new implementation follows the standard definition for a Multinomial distribution (e.g. as in https://en.wikipedia.org/wiki/Multinomial_distribution). See these issues for details:\n",
      "https://github.com/hmmlearn/hmmlearn/issues/335\n",
      "https://github.com/hmmlearn/hmmlearn/issues/340\n"
     ]
    },
    {
     "name": "stdout",
     "output_type": "stream",
     "text": [
      "\n",
      "--- Data Preparation Sanity Check ---\n",
      "Piecemeal group has 34 participants, with a total of 1805715 fixations.\n",
      "Holistic group has 3 participants, with a total of 111 fixations.\n",
      "✅ Datasets for the two groups are confirmed to be different.\n",
      "\n",
      "Training HMMs with 2 hidden states (Focus vs. Explore)...\n"
     ]
    },
    {
     "name": "stderr",
     "output_type": "stream",
     "text": [
      "MultinomialHMM has undergone major changes. The previous version was implementing a CategoricalHMM (a special case of MultinomialHMM). This new implementation follows the standard definition for a Multinomial distribution (e.g. as in https://en.wikipedia.org/wiki/Multinomial_distribution). See these issues for details:\n",
      "https://github.com/hmmlearn/hmmlearn/issues/335\n",
      "https://github.com/hmmlearn/hmmlearn/issues/340\n"
     ]
    },
    {
     "name": "stdout",
     "output_type": "stream",
     "text": [
      "\n",
      "Training complete.\n",
      "\n",
      "✅ HMM models saved for each strategy.\n",
      "\n",
      "--- Generated Transition Matrices ---\n",
      "\n",
      "Piecemeal HMM Transition Matrix:\n",
      "            To S0     To S1\n",
      "From S0  0.878274  0.121726\n",
      "From S1  0.998874  0.001126\n",
      "\n",
      "Holistic HMM Transition Matrix:\n",
      "            To S0     To S1\n",
      "From S0  0.878274  0.121726\n",
      "From S1  0.998874  0.001126\n"
     ]
    }
   ],
   "source": [
    "# Cell 1: Imports and Load Data\n",
    "import pandas as pd\n",
    "import numpy as np\n",
    "from hmmlearn import hmm\n",
    "import joblib\n",
    "from sklearn.cluster import KMeans\n",
    "\n",
    "print(\"--- Notebook 04 (Upgraded): Sequence Modeling (HMM) ---\")\n",
    "df_fix = pd.read_csv('../data/processed_fixations_per_trial.csv')\n",
    "df_clustered = pd.read_csv('../data/clustered_features.csv')\n",
    "\n",
    "# NOTE: Re-run AOI definition to ensure consistency\n",
    "n_aois=8\n",
    "max_x, max_y = df_fix['Fixation X'].max(), df_fix['Fixation Y'].max()\n",
    "df_fix['x_norm'] = df_fix['Fixation X'] / max_x\n",
    "df_fix['y_norm'] = df_fix['Fixation Y'] / max_y\n",
    "aoi_model = KMeans(n_clusters=n_aois, random_state=42, n_init=10)\n",
    "df_fix['aoi'] = aoi_model.fit_predict(df_fix[['x_norm', 'y_norm']])\n",
    "\n",
    "# Cell 2: Prepare HMM Data and Train\n",
    "def prepare_hmm_data(pids, df_fixations):\n",
    "    sequences = [df_fixations[df_fixations['participant_id'] == pid]['aoi'].values for pid in pids]\n",
    "    sequences = [s for s in sequences if len(s) > 0]\n",
    "    lengths = [len(s) for s in sequences]\n",
    "    return np.concatenate(sequences).reshape(-1, 1), lengths\n",
    "\n",
    "piecemeal_pids = df_clustered[df_clustered['strategy'] == 'Piecemeal']['participant_id']\n",
    "holistic_pids = df_clustered[df_clustered['strategy'] == 'Holistic']['participant_id']\n",
    "\n",
    "X_piecemeal, lengths_piecemeal = prepare_hmm_data(piecemeal_pids, df_fix)\n",
    "X_holistic, lengths_holistic = prepare_hmm_data(holistic_pids, df_fix)\n",
    "\n",
    "# --- Sanity Check (Crucial for Debugging) ---\n",
    "print(\"\\n--- Data Preparation Sanity Check ---\")\n",
    "print(f\"Piecemeal group has {len(piecemeal_pids)} participants, with a total of {X_piecemeal.shape[0]} fixations.\")\n",
    "print(f\"Holistic group has {len(holistic_pids)} participants, with a total of {X_holistic.shape[0]} fixations.\")\n",
    "# This check ensures the two datasets are indeed different\n",
    "if np.array_equal(X_piecemeal, X_holistic):\n",
    "    print(\"‼️ WARNING: The datasets for the two groups are identical. Check the clustering step.\")\n",
    "else:\n",
    "    print(\"✅ Datasets for the two groups are confirmed to be different.\")\n",
    "# ---------------------------------------------\n",
    "\n",
    "# --- FIX: Changed n_hidden_states from 3 to 2 for a more robust model ---\n",
    "n_hidden_states = 2\n",
    "print(f\"\\nTraining HMMs with {n_hidden_states} hidden states (Focus vs. Explore)...\")\n",
    "# -------------------------------------------------------------------------\n",
    "\n",
    "# Increased n_iter for better convergence\n",
    "hmm_piecemeal = hmm.MultinomialHMM(n_components=n_hidden_states, random_state=42, n_iter=200, tol=1e-3).fit(X_piecemeal, lengths_piecemeal)\n",
    "hmm_holistic = hmm.MultinomialHMM(n_components=n_hidden_states, random_state=42, n_iter=200, tol=1e-3).fit(X_holistic, lengths_holistic)\n",
    "\n",
    "print(\"\\nTraining complete.\")\n",
    "\n",
    "# Cell 3: Save Models\n",
    "joblib.dump(hmm_piecemeal, '../models/hmm_piecemeal.pkl')\n",
    "joblib.dump(hmm_holistic, '../models/hmm_holistic.pkl')\n",
    "print(\"\\n✅ HMM models saved for each strategy.\")\n",
    "\n",
    "# Cell 4: (Optional but Recommended) - Check Transition Matrices\n",
    "print(\"\\n--- Generated Transition Matrices ---\")\n",
    "print(\"\\nPiecemeal HMM Transition Matrix:\")\n",
    "print(pd.DataFrame(hmm_piecemeal.transmat_, columns=[f\"To S{i}\" for i in range(n_hidden_states)], index=[f\"From S{i}\" for i in range(n_hidden_states)]))\n",
    "\n",
    "print(\"\\nHolistic HMM Transition Matrix:\")\n",
    "print(pd.DataFrame(hmm_holistic.transmat_, columns=[f\"To S{i}\" for i in range(n_hidden_states)], index=[f\"From S{i}\" for i in range(n_hidden_states)]))"
   ]
  },
  {
   "cell_type": "code",
   "execution_count": null,
   "id": "2b209e8e-8d81-4b04-b1d3-3f846f00ec81",
   "metadata": {},
   "outputs": [],
   "source": []
  }
 ],
 "metadata": {
  "kernelspec": {
   "display_name": "Python [conda env:base] *",
   "language": "python",
   "name": "conda-base-py"
  },
  "language_info": {
   "codemirror_mode": {
    "name": "ipython",
    "version": 3
   },
   "file_extension": ".py",
   "mimetype": "text/x-python",
   "name": "python",
   "nbconvert_exporter": "python",
   "pygments_lexer": "ipython3",
   "version": "3.12.7"
  }
 },
 "nbformat": 4,
 "nbformat_minor": 5
}
